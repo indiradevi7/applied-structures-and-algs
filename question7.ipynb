{
 "cells": [
  {
   "cell_type": "markdown",
   "id": "b5287ed0",
   "metadata": {},
   "source": [
    "7. Statisticians would like to have a set of functions to compute the median and\n",
    "mode of a list of numbers. The median is the number that would appear at the\n",
    "midpoint of a list if it were sorted. The mode is the number that appears most\n",
    "frequently in the list. Define these functions in a module named stats.py. Also\n",
    "include a function named mean, which computes the average of a set of numbers.\n",
    "Each function expects a list of numbers as an argument and returns a single\n",
    "number# "
   ]
  },
  {
   "cell_type": "code",
   "execution_count": 3,
   "id": "94730d78",
   "metadata": {},
   "outputs": [
    {
     "name": "stdout",
     "output_type": "stream",
     "text": [
      "Median: 5.0\n",
      "Mode: 6\n",
      "Mean: 4.5\n"
     ]
    }
   ],
   "source": [
    "from stats import median, mode, mean\n",
    "\n",
    "numbers = [1, 2, 3, 4, 5, 5, 6, 6, 6, 7]\n",
    "\n",
    "median_value = median(numbers)\n",
    "mode_value = mode(numbers)\n",
    "mean_value = mean(numbers)\n",
    "\n",
    "print(\"Median:\", median_value)\n",
    "print(\"Mode:\", mode_value)\n",
    "print(\"Mean:\", mean_value)"
   ]
  },
  {
   "cell_type": "code",
   "execution_count": null,
   "id": "c56ed0d2",
   "metadata": {},
   "outputs": [],
   "source": []
  }
 ],
 "metadata": {
  "kernelspec": {
   "display_name": "Python 3 (ipykernel)",
   "language": "python",
   "name": "python3"
  },
  "language_info": {
   "codemirror_mode": {
    "name": "ipython",
    "version": 3
   },
   "file_extension": ".py",
   "mimetype": "text/x-python",
   "name": "python",
   "nbconvert_exporter": "python",
   "pygments_lexer": "ipython3",
   "version": "3.10.4"
  }
 },
 "nbformat": 4,
 "nbformat_minor": 5
}
