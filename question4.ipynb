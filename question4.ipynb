{
 "cells": [
  {
   "cell_type": "markdown",
   "id": "29fe451e",
   "metadata": {},
   "source": [
    "# 4. The German mathematician Gottfried Leibniz developed the following method\n",
    "to approximate the value of π:\n",
    "π/4 = 1 – 1/3 + 1/5 – 1/7 + …\n",
    "Write a program that allows the user to specify the number of iterations used in\n",
    "this approximation and displays the resulting value."
   ]
  },
  {
   "cell_type": "code",
   "execution_count": 1,
   "id": "f585e9d2",
   "metadata": {},
   "outputs": [],
   "source": [
    "def approximate_pi(iterations):\n",
    "    approximation = 0\n",
    "    sign = 1\n",
    "\n",
    "    for i in range(1, iterations * 2 + 1, 2):\n",
    "        approximation += sign * (1 / i)\n",
    "        sign *= -1\n",
    "\n",
    "    pi_approximation = 4 * approximation\n",
    "    return pi_approximation"
   ]
  },
  {
   "cell_type": "code",
   "execution_count": 2,
   "id": "c2cf970e",
   "metadata": {},
   "outputs": [
    {
     "name": "stdout",
     "output_type": "stream",
     "text": [
      "Enter the number of iterations: 7\n"
     ]
    }
   ],
   "source": [
    "num_iterations = int(input(\"Enter the number of iterations: \"))"
   ]
  },
  {
   "cell_type": "code",
   "execution_count": 3,
   "id": "0df3b003",
   "metadata": {},
   "outputs": [],
   "source": [
    "# Approximate the value of π\n",
    "pi_approx = approximate_pi(num_iterations)"
   ]
  },
  {
   "cell_type": "code",
   "execution_count": 4,
   "id": "370502de",
   "metadata": {},
   "outputs": [
    {
     "name": "stdout",
     "output_type": "stream",
     "text": [
      "Approximation of π: 3.2837384837\n"
     ]
    }
   ],
   "source": [
    "print(\"Approximation of π: {:.10f}\".format(pi_approx))"
   ]
  },
  {
   "cell_type": "code",
   "execution_count": null,
   "id": "e15d3175",
   "metadata": {},
   "outputs": [],
   "source": []
  }
 ],
 "metadata": {
  "kernelspec": {
   "display_name": "Python 3 (ipykernel)",
   "language": "python",
   "name": "python3"
  },
  "language_info": {
   "codemirror_mode": {
    "name": "ipython",
    "version": 3
   },
   "file_extension": ".py",
   "mimetype": "text/x-python",
   "name": "python",
   "nbconvert_exporter": "python",
   "pygments_lexer": "ipython3",
   "version": "3.10.4"
  }
 },
 "nbformat": 4,
 "nbformat_minor": 5
}
