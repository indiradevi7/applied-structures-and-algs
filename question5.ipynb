{
 "cells": [
  {
   "cell_type": "markdown",
   "id": "d87f5aa3",
   "metadata": {},
   "source": [
    "# 5. The TidBit Computer Store has a credit plan for computer purchases. There is a\n",
    "10% down payment and an annual interest rate of 12%. Monthly payments are 5%\n",
    "of the listed purchase price minus the down payment. Write a program that takes\n",
    "the purchase price as input. The program should display a table, with appropriate\n",
    "headers, of a payment schedule for the lifetime of the loan. Each row of the table\n",
    "should contain the following items:\n",
    "n The month number (beginning with 1)\n",
    "n The current total balance owed\n",
    "n The interest owed for that month\n",
    "n The amount of principal owed for that month\n",
    "n The payment for that month\n",
    "n The balance remaining after payment\n",
    "The amount of interest for a month is equal to balance * rate / 12. The amount of\n",
    "principal for a month is equal to the monthly payment minus the interest owed."
   ]
  },
  {
   "cell_type": "code",
   "execution_count": 1,
   "id": "108ddab1",
   "metadata": {},
   "outputs": [],
   "source": [
    "def generate_payment_schedule(purchase_price):\n",
    "    down_payment = 0.1 * purchase_price\n",
    "    balance = purchase_price - down_payment\n",
    "    monthly_interest_rate = 0.12 / 12\n",
    "    monthly_payment = 0.05 * (purchase_price - down_payment)\n",
    "    payment_schedule = []\n",
    "\n",
    "    month_number = 1\n",
    "    while balance > 0:\n",
    "        interest_owed = balance * monthly_interest_rate\n",
    "        principal_owed = monthly_payment - interest_owed\n",
    "        balance -= principal_owed\n",
    "        payment_schedule.append((month_number, balance, interest_owed, principal_owed, monthly_payment))\n",
    "        month_number += 1\n",
    "\n",
    "    return payment_schedule"
   ]
  },
  {
   "cell_type": "code",
   "execution_count": 2,
   "id": "acd50554",
   "metadata": {},
   "outputs": [
    {
     "name": "stdout",
     "output_type": "stream",
     "text": [
      "Enter the purchase price: 300\n"
     ]
    }
   ],
   "source": [
    "purchase_price = float(input(\"Enter the purchase price: \"))"
   ]
  },
  {
   "cell_type": "code",
   "execution_count": 3,
   "id": "993706dd",
   "metadata": {},
   "outputs": [],
   "source": [
    "schedule = generate_payment_schedule(purchase_price)"
   ]
  },
  {
   "cell_type": "code",
   "execution_count": 4,
   "id": "3815e628",
   "metadata": {},
   "outputs": [
    {
     "name": "stdout",
     "output_type": "stream",
     "text": [
      "Month     Total Balance       Interest Owed       Principal Owed      Payment             Remaining Balance   \n",
      "1         $259.20             $2.70               $10.80              $13.50              $259.20             \n",
      "2         $248.29             $2.59               $10.91              $13.50              $248.29             \n",
      "3         $237.27             $2.48               $11.02              $13.50              $237.27             \n",
      "4         $226.15             $2.37               $11.13              $13.50              $226.15             \n",
      "5         $214.91             $2.26               $11.24              $13.50              $214.91             \n",
      "6         $203.56             $2.15               $11.35              $13.50              $203.56             \n",
      "7         $192.09             $2.04               $11.46              $13.50              $192.09             \n",
      "8         $180.51             $1.92               $11.58              $13.50              $180.51             \n",
      "9         $168.82             $1.81               $11.69              $13.50              $168.82             \n",
      "10        $157.01             $1.69               $11.81              $13.50              $157.01             \n",
      "11        $145.08             $1.57               $11.93              $13.50              $145.08             \n",
      "12        $133.03             $1.45               $12.05              $13.50              $133.03             \n",
      "13        $120.86             $1.33               $12.17              $13.50              $120.86             \n",
      "14        $108.57             $1.21               $12.29              $13.50              $108.57             \n",
      "15        $96.15              $1.09               $12.41              $13.50              $96.15              \n",
      "16        $83.62              $0.96               $12.54              $13.50              $83.62              \n",
      "17        $70.95              $0.84               $12.66              $13.50              $70.95              \n",
      "18        $58.16              $0.71               $12.79              $13.50              $58.16              \n",
      "19        $45.24              $0.58               $12.92              $13.50              $45.24              \n",
      "20        $32.19              $0.45               $13.05              $13.50              $32.19              \n",
      "21        $19.02              $0.32               $13.18              $13.50              $19.02              \n",
      "22        $5.71               $0.19               $13.31              $13.50              $5.71               \n",
      "23        $-7.74              $0.06               $13.44              $13.50              $-7.74              \n"
     ]
    }
   ],
   "source": [
    "print(\"{:<10s}{:<20s}{:<20s}{:<20s}{:<20s}{:<20s}\".format(\"Month\", \"Total Balance\", \"Interest Owed\", \"Principal Owed\", \"Payment\", \"Remaining Balance\"))\n",
    "for month, balance, interest, principal, payment in schedule:\n",
    "    print(\"{:<10d}${:<19.2f}${:<19.2f}${:<19.2f}${:<19.2f}${:<19.2f}\".format(month, balance, interest, principal, payment, balance))"
   ]
  },
  {
   "cell_type": "code",
   "execution_count": null,
   "id": "a048a1dc",
   "metadata": {},
   "outputs": [],
   "source": []
  }
 ],
 "metadata": {
  "kernelspec": {
   "display_name": "Python 3 (ipykernel)",
   "language": "python",
   "name": "python3"
  },
  "language_info": {
   "codemirror_mode": {
    "name": "ipython",
    "version": 3
   },
   "file_extension": ".py",
   "mimetype": "text/x-python",
   "name": "python",
   "nbconvert_exporter": "python",
   "pygments_lexer": "ipython3",
   "version": "3.10.4"
  }
 },
 "nbformat": 4,
 "nbformat_minor": 5
}
