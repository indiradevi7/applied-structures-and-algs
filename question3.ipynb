{
 "cells": [
  {
   "cell_type": "markdown",
   "id": "a005debd",
   "metadata": {},
   "source": [
    "3. A standard science experiment is to drop a ball and see how high it bounces.\n",
    "Once the “bounciness” of the ball has been determined, the ratio gives a\n",
    "bounciness index. For example, if a ball dropped from a height of 10 feet bounces 6\n",
    "feet high, the index is 0.6 and the total distance traveled by the ball is 16 feet after\n",
    "one bounce. If the ball were to continue bouncing, the distance after two bounces\n",
    "would be 10 ft + 6 ft + 6 ft + 3.6 ft = 25.6 ft. Note that distance traveled for each\n",
    "successive bounce is the distance to the floor plus 0.6 of that distance as the ball\n",
    "comes back up. Write a program that lets the user enter the initial height of the\n",
    "ball and the number of times the ball is allowed to continue bouncing. Output\n",
    "should be the total distance traveled by the ball.# "
   ]
  },
  {
   "cell_type": "code",
   "execution_count": 1,
   "id": "417fb274",
   "metadata": {},
   "outputs": [],
   "source": [
    "def calculate_total_distance(initial_height, num_bounces):\n",
    "    total_distance = initial_height\n",
    "    bounciness_index = 0.6\n",
    "\n",
    "    for _ in range(num_bounces):\n",
    "        distance_to_floor = total_distance\n",
    "        distance_bounce = distance_to_floor * bounciness_index\n",
    "        total_distance += distance_bounce\n",
    "\n",
    "    return total_distance\n"
   ]
  },
  {
   "cell_type": "code",
   "execution_count": 2,
   "id": "0858cd07",
   "metadata": {},
   "outputs": [
    {
     "name": "stdout",
     "output_type": "stream",
     "text": [
      "Enter the initial height of the ball: 7\n",
      "Enter the number of bounces: 3\n"
     ]
    }
   ],
   "source": [
    "initial_height = float(input(\"Enter the initial height of the ball: \"))\n",
    "num_bounces = int(input(\"Enter the number of bounces: \"))"
   ]
  },
  {
   "cell_type": "code",
   "execution_count": 3,
   "id": "2fcdfbe0",
   "metadata": {},
   "outputs": [],
   "source": [
    "total_distance = calculate_total_distance(initial_height, num_bounces)"
   ]
  },
  {
   "cell_type": "code",
   "execution_count": 4,
   "id": "64554422",
   "metadata": {},
   "outputs": [
    {
     "name": "stdout",
     "output_type": "stream",
     "text": [
      "Total distance traveled by the ball: 28.67 ft\n"
     ]
    }
   ],
   "source": [
    "print(\"Total distance traveled by the ball: {:.2f} ft\".format(total_distance))"
   ]
  },
  {
   "cell_type": "code",
   "execution_count": null,
   "id": "370680c9",
   "metadata": {},
   "outputs": [],
   "source": []
  }
 ],
 "metadata": {
  "kernelspec": {
   "display_name": "Python 3 (ipykernel)",
   "language": "python",
   "name": "python3"
  },
  "language_info": {
   "codemirror_mode": {
    "name": "ipython",
    "version": 3
   },
   "file_extension": ".py",
   "mimetype": "text/x-python",
   "name": "python",
   "nbconvert_exporter": "python",
   "pygments_lexer": "ipython3",
   "version": "3.10.4"
  }
 },
 "nbformat": 4,
 "nbformat_minor": 5
}
