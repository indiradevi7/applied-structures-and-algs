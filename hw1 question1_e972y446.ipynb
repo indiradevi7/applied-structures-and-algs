{
 "cells": [
  {
   "cell_type": "markdown",
   "id": "f21d06b9",
   "metadata": {},
   "source": [
    "# 1. Write a program that takes the radius of a sphere (a floating-point number) as\n",
    "input and outputs the sphere’s diameter, circumference, surface area, and volume."
   ]
  },
  {
   "cell_type": "code",
   "execution_count": 1,
   "id": "9e8c3453",
   "metadata": {},
   "outputs": [],
   "source": [
    "import math\n",
    "\n",
    "def calculate_sphere_properties(radius):\n",
    "    diameter = 2 * radius\n",
    "    circumference = 2 * math.pi * radius\n",
    "    surface_area = 4 * math.pi * radius**2\n",
    "    volume = (4/3) * math.pi * radius**3\n",
    "\n",
    "    return diameter, circumference, surface_area, volume"
   ]
  },
  {
   "cell_type": "code",
   "execution_count": 2,
   "id": "2829579c",
   "metadata": {},
   "outputs": [
    {
     "name": "stdout",
     "output_type": "stream",
     "text": [
      "Enter the radius of the sphere: 3\n"
     ]
    }
   ],
   "source": [
    "radius = float(input(\"Enter the radius of the sphere: \"))"
   ]
  },
  {
   "cell_type": "code",
   "execution_count": 3,
   "id": "80365685",
   "metadata": {},
   "outputs": [],
   "source": [
    "diameter, circumference, surface_area, volume = calculate_sphere_properties(radius)"
   ]
  },
  {
   "cell_type": "code",
   "execution_count": 4,
   "id": "24554195",
   "metadata": {},
   "outputs": [
    {
     "name": "stdout",
     "output_type": "stream",
     "text": [
      "Diameter: 6.00\n",
      "Circumference: 18.85\n",
      "Surface Area: 113.10\n",
      "Volume: 113.10\n"
     ]
    }
   ],
   "source": [
    "print(\"Diameter: {:.2f}\".format(diameter))\n",
    "print(\"Circumference: {:.2f}\".format(circumference))\n",
    "print(\"Surface Area: {:.2f}\".format(surface_area))\n",
    "print(\"Volume: {:.2f}\".format(volume))"
   ]
  },
  {
   "cell_type": "code",
   "execution_count": null,
   "id": "56dc3df9",
   "metadata": {},
   "outputs": [],
   "source": []
  }
 ],
 "metadata": {
  "kernelspec": {
   "display_name": "Python 3 (ipykernel)",
   "language": "python",
   "name": "python3"
  },
  "language_info": {
   "codemirror_mode": {
    "name": "ipython",
    "version": 3
   },
   "file_extension": ".py",
   "mimetype": "text/x-python",
   "name": "python",
   "nbconvert_exporter": "python",
   "pygments_lexer": "ipython3",
   "version": "3.10.4"
  }
 },
 "nbformat": 4,
 "nbformat_minor": 5
}
