{
 "cells": [
  {
   "cell_type": "markdown",
   "id": "879c8abf",
   "metadata": {},
   "source": [
    "# 6. The Payroll Department keeps a list of employee information for each pay period\n",
    "in a text file. The format of each line of the file is\n",
    "<last name> <hourly wage> <hours worked>\n",
    "Write a program that inputs a filename from the user and prints a report to the\n",
    "terminal of the wages paid to the employees for the given period. The report\n",
    "should be in tabular format with the appropriate header. Each line should contain\n",
    "an employee’s name, the hours worked, and the wages paid for that period."
   ]
  },
  {
   "cell_type": "code",
   "execution_count": 1,
   "id": "a0825289",
   "metadata": {},
   "outputs": [],
   "source": [
    "def calculate_wages(hourly_wage, hours_worked):\n",
    "    if hours_worked <= 40:\n",
    "        total_wages = hourly_wage * hours_worked\n",
    "    else:\n",
    "        regular_hours = 40\n",
    "        overtime_hours = hours_worked - 40\n",
    "        overtime_pay = 1.5 * hourly_wage * overtime_hours\n",
    "        total_wages = (hourly_wage * regular_hours) + overtime_pay\n",
    "\n",
    "    return total_wages"
   ]
  },
  {
   "cell_type": "code",
   "execution_count": 2,
   "id": "e0d06218",
   "metadata": {},
   "outputs": [
    {
     "name": "stdout",
     "output_type": "stream",
     "text": [
      "Employee       Hours Worked   Wages Paid     \n",
      "---------------------------------------------\n",
      "Manu           40.00          $620.00         \n",
      "indu           37.50          $478.12         \n",
      "Swetha         3.00           $6.00           \n",
      "sushma         6.00           $58.80          \n",
      "chandu         50.00          $1061.50        \n"
     ]
    }
   ],
   "source": [
    "# Take input from the user\n",
    "filename = r\"C:\\Users\\DELL\\Downloads\\ASA\\indu.txt\"\n",
    "\n",
    "try:\n",
    "    # Open the file for reading\n",
    "    with open(filename, 'r') as file:\n",
    "        # Read the lines from the file\n",
    "        lines = file.readlines()\n",
    "\n",
    "        # Output the report header\n",
    "        print(\"{:<15s}{:<15s}{:<15s}\".format(\"Employee\", \"Hours Worked\", \"Wages Paid\"))\n",
    "        print(\"-\" * 45)\n",
    "\n",
    "        # Process each line in the file\n",
    "        for line in lines:\n",
    "            # Split the line into employee information\n",
    "            employee_info = line.strip().split()\n",
    "\n",
    "            # Extract the employee details\n",
    "            last_name = employee_info[0]\n",
    "            hourly_wage = eval(employee_info[1])\n",
    "            hours_worked = eval(employee_info[2])\n",
    "\n",
    "            # Calculate the wages\n",
    "            wages_paid = calculate_wages(hourly_wage, hours_worked)\n",
    "\n",
    "            # Output the employee's wages\n",
    "            print(\"{:<15s}{:<15.2f}${:<15.2f}\".format(last_name, hours_worked, wages_paid))\n",
    "\n",
    "except FileNotFoundError:\n",
    "    print(\"File not found!\")"
   ]
  },
  {
   "cell_type": "code",
   "execution_count": null,
   "id": "01f48c38",
   "metadata": {},
   "outputs": [],
   "source": []
  }
 ],
 "metadata": {
  "kernelspec": {
   "display_name": "Python 3 (ipykernel)",
   "language": "python",
   "name": "python3"
  },
  "language_info": {
   "codemirror_mode": {
    "name": "ipython",
    "version": 3
   },
   "file_extension": ".py",
   "mimetype": "text/x-python",
   "name": "python",
   "nbconvert_exporter": "python",
   "pygments_lexer": "ipython3",
   "version": "3.10.4"
  }
 },
 "nbformat": 4,
 "nbformat_minor": 5
}
