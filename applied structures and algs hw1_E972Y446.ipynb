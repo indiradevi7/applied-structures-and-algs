{
 "cells": [
  {
   "cell_type": "markdown",
   "id": "97dac9ec",
   "metadata": {},
   "source": [
    "# 1. Write a program that takes the radius of a sphere (a floating-point number) as\n",
    "input and outputs the sphere’s diameter, circumference, surface area, and volume# "
   ]
  },
  {
   "cell_type": "code",
   "execution_count": 1,
   "id": "f9b69b11",
   "metadata": {},
   "outputs": [],
   "source": [
    "import math\n",
    "\n",
    "def calculate_sphere_properties(radius):\n",
    "    diameter = 2 * radius\n",
    "    circumference = 2 * math.pi * radius\n",
    "    surface_area = 4 * math.pi * radius**2\n",
    "    volume = (4/3) * math.pi * radius**3\n",
    "\n",
    "    return diameter, circumference, surface_area, volume\n"
   ]
  },
  {
   "cell_type": "code",
   "execution_count": 2,
   "id": "6f6414a8",
   "metadata": {},
   "outputs": [
    {
     "name": "stdout",
     "output_type": "stream",
     "text": [
      "Enter the radius of the sphere: 3\n"
     ]
    }
   ],
   "source": [
    "radius = float(input(\"Enter the radius of the sphere: \"))"
   ]
  },
  {
   "cell_type": "code",
   "execution_count": 3,
   "id": "1d050aff",
   "metadata": {},
   "outputs": [],
   "source": [
    "diameter, circumference, surface_area, volume = calculate_sphere_properties(radius)"
   ]
  },
  {
   "cell_type": "code",
   "execution_count": 4,
   "id": "9c44213c",
   "metadata": {},
   "outputs": [
    {
     "name": "stdout",
     "output_type": "stream",
     "text": [
      "Diameter: 6.00\n",
      "Circumference: 18.85\n",
      "Surface Area: 113.10\n",
      "Volume: 113.10\n"
     ]
    }
   ],
   "source": [
    "print(\"Diameter: {:.2f}\".format(diameter))\n",
    "print(\"Circumference: {:.2f}\".format(circumference))\n",
    "print(\"Surface Area: {:.2f}\".format(surface_area))\n",
    "print(\"Volume: {:.2f}\".format(volume))"
   ]
  },
  {
   "cell_type": "markdown",
   "id": "fed13ed0",
   "metadata": {},
   "source": [
    "# 2. An employee’s total weekly pay equals the hourly wage multiplied by the total\n",
    "number of regular hours plus any overtime pay. Overtime pay equals the total\n",
    "overtime hours multiplied by 1.5 times the hourly wage. Write a program that\n",
    "takes as inputs the hourly wage, total regular hours, and total overtime hours and\n",
    "displays an employee’s total weekly pay.# "
   ]
  },
  {
   "cell_type": "code",
   "execution_count": 5,
   "id": "54f44dd1",
   "metadata": {},
   "outputs": [],
   "source": [
    "def calculate_weekly_pay(hourly_wage, regular_hours, overtime_hours):\n",
    "    regular_pay = hourly_wage * regular_hours\n",
    "    overtime_pay = hourly_wage * 1.5 * overtime_hours\n",
    "    total_pay = regular_pay + overtime_pay\n",
    "    return total_pay"
   ]
  },
  {
   "cell_type": "code",
   "execution_count": 6,
   "id": "3c99f80e",
   "metadata": {},
   "outputs": [
    {
     "name": "stdout",
     "output_type": "stream",
     "text": [
      "Enter the hourly wage: 9\n",
      "Enter the total regular hours: 10\n",
      "Enter the total overtime hours: 40\n"
     ]
    }
   ],
   "source": [
    "hourly_wage = float(input(\"Enter the hourly wage: \"))\n",
    "regular_hours = float(input(\"Enter the total regular hours: \"))\n",
    "overtime_hours = float(input(\"Enter the total overtime hours: \"))"
   ]
  },
  {
   "cell_type": "code",
   "execution_count": 7,
   "id": "369f5570",
   "metadata": {},
   "outputs": [],
   "source": [
    "total_weekly_pay = calculate_weekly_pay(hourly_wage, regular_hours, overtime_hours)"
   ]
  },
  {
   "cell_type": "code",
   "execution_count": 8,
   "id": "fe5453cc",
   "metadata": {},
   "outputs": [
    {
     "name": "stdout",
     "output_type": "stream",
     "text": [
      "Total weekly pay: $630.00\n"
     ]
    }
   ],
   "source": [
    "print(\"Total weekly pay: ${:.2f}\".format(total_weekly_pay))"
   ]
  },
  {
   "cell_type": "markdown",
   "id": "f8c6342a",
   "metadata": {},
   "source": [
    "# 3. A standard science experiment is to drop a ball and see how high it bounces.\n",
    "Once the “bounciness” of the ball has been determined, the ratio gives a\n",
    "bounciness index. For example, if a ball dropped from a height of 10 feet bounces 6\n",
    "feet high, the index is 0.6 and the total distance traveled by the ball is 16 feet after\n",
    "one bounce. If the ball were to continue bouncing, the distance after two bounces\n",
    "would be 10 ft + 6 ft + 6 ft + 3.6 ft = 25.6 ft. Note that distance traveled for each\n",
    "successive bounce is the distance to the floor plus 0.6 of that distance as the ball\n",
    "comes back up. Write a program that lets the user enter the initial height of the\n",
    "ball and the number of times the ball is allowed to continue bouncing. Output\n",
    "should be the total distance traveled by the ball."
   ]
  },
  {
   "cell_type": "code",
   "execution_count": 9,
   "id": "2e12a38c",
   "metadata": {},
   "outputs": [],
   "source": [
    "def calculate_total_distance(initial_height, num_bounces):\n",
    "    total_distance = initial_height\n",
    "    bounciness_index = 0.6\n",
    "\n",
    "    for _ in range(num_bounces):\n",
    "        distance_to_floor = total_distance\n",
    "        distance_bounce = distance_to_floor * bounciness_index\n",
    "        total_distance += distance_bounce\n",
    "\n",
    "    return total_distance\n"
   ]
  },
  {
   "cell_type": "code",
   "execution_count": 10,
   "id": "c5572df2",
   "metadata": {},
   "outputs": [
    {
     "name": "stdout",
     "output_type": "stream",
     "text": [
      "Enter the initial height of the ball: 7\n",
      "Enter the number of bounces: 3\n"
     ]
    }
   ],
   "source": [
    "initial_height = float(input(\"Enter the initial height of the ball: \"))\n",
    "num_bounces = int(input(\"Enter the number of bounces: \"))\n"
   ]
  },
  {
   "cell_type": "code",
   "execution_count": 11,
   "id": "9fdc7bf2",
   "metadata": {},
   "outputs": [],
   "source": [
    "total_distance = calculate_total_distance(initial_height, num_bounces)"
   ]
  },
  {
   "cell_type": "code",
   "execution_count": 12,
   "id": "b5254a31",
   "metadata": {},
   "outputs": [
    {
     "name": "stdout",
     "output_type": "stream",
     "text": [
      "Total distance traveled by the ball: 28.67 ft\n"
     ]
    }
   ],
   "source": [
    "print(\"Total distance traveled by the ball: {:.2f} ft\".format(total_distance))"
   ]
  },
  {
   "cell_type": "markdown",
   "id": "85a4ac59",
   "metadata": {},
   "source": [
    "# 4. The German mathematician Gottfried Leibniz developed the following method\n",
    "to approximate the value of π:\n",
    "π/4 = 1 – 1/3 + 1/5 – 1/7 + …\n",
    "Write a program that allows the user to specify the number of iterations used in\n",
    "this approximation and displays the resulting value."
   ]
  },
  {
   "cell_type": "code",
   "execution_count": 13,
   "id": "77d7680c",
   "metadata": {},
   "outputs": [],
   "source": [
    "def approximate_pi(iterations):\n",
    "    approximation = 0\n",
    "    sign = 1\n",
    "\n",
    "    for i in range(1, iterations * 2 + 1, 2):\n",
    "        approximation += sign * (1 / i)\n",
    "        sign *= -1\n",
    "\n",
    "    pi_approximation = 4 * approximation\n",
    "    return pi_approximation"
   ]
  },
  {
   "cell_type": "code",
   "execution_count": 14,
   "id": "520c9f47",
   "metadata": {},
   "outputs": [
    {
     "name": "stdout",
     "output_type": "stream",
     "text": [
      "Enter the number of iterations: 7\n"
     ]
    }
   ],
   "source": [
    "num_iterations = int(input(\"Enter the number of iterations: \"))"
   ]
  },
  {
   "cell_type": "code",
   "execution_count": 15,
   "id": "82b39571",
   "metadata": {},
   "outputs": [],
   "source": [
    "# Approximate the value of π\n",
    "pi_approx = approximate_pi(num_iterations)"
   ]
  },
  {
   "cell_type": "code",
   "execution_count": 16,
   "id": "1d3adfd6",
   "metadata": {},
   "outputs": [
    {
     "name": "stdout",
     "output_type": "stream",
     "text": [
      "Approximation of π: 3.2837384837\n"
     ]
    }
   ],
   "source": [
    "print(\"Approximation of π: {:.10f}\".format(pi_approx))"
   ]
  },
  {
   "cell_type": "markdown",
   "id": "3f1a3d5c",
   "metadata": {},
   "source": [
    "# 5. The TidBit Computer Store has a credit plan for computer purchases. There is a\n",
    "10% down payment and an annual interest rate of 12%. Monthly payments are 5%\n",
    "of the listed purchase price minus the down payment. Write a program that takes\n",
    "the purchase price as input. The program should display a table, with appropriate\n",
    "headers, of a payment schedule for the lifetime of the loan. Each row of the table\n",
    "should contain the following items:\n",
    "n The month number (beginning with 1)\n",
    "n The current total balance owed\n",
    "n The interest owed for that month\n",
    "n The amount of principal owed for that month\n",
    "n The payment for that month\n",
    "n The balance remaining after payment\n",
    "The amount of interest for a month is equal to balance * rate / 12. The amount of\n",
    "principal for a month is equal to the monthly payment minus the interest owed."
   ]
  },
  {
   "cell_type": "code",
   "execution_count": 17,
   "id": "691da6e6",
   "metadata": {},
   "outputs": [],
   "source": [
    "def generate_payment_schedule(purchase_price):\n",
    "    down_payment = 0.1 * purchase_price\n",
    "    balance = purchase_price - down_payment\n",
    "    monthly_interest_rate = 0.12 / 12\n",
    "    monthly_payment = 0.05 * (purchase_price - down_payment)\n",
    "    payment_schedule = []\n",
    "\n",
    "    month_number = 1\n",
    "    while balance > 0:\n",
    "        interest_owed = balance * monthly_interest_rate\n",
    "        principal_owed = monthly_payment - interest_owed\n",
    "        balance -= principal_owed\n",
    "        payment_schedule.append((month_number, balance, interest_owed, principal_owed, monthly_payment))\n",
    "        month_number += 1\n",
    "\n",
    "    return payment_schedule"
   ]
  },
  {
   "cell_type": "code",
   "execution_count": 18,
   "id": "500b7929",
   "metadata": {},
   "outputs": [
    {
     "name": "stdout",
     "output_type": "stream",
     "text": [
      "Enter the purchase price: 300\n"
     ]
    }
   ],
   "source": [
    "purchase_price = float(input(\"Enter the purchase price: \"))"
   ]
  },
  {
   "cell_type": "code",
   "execution_count": 19,
   "id": "02e56a31",
   "metadata": {},
   "outputs": [],
   "source": [
    "schedule = generate_payment_schedule(purchase_price)"
   ]
  },
  {
   "cell_type": "code",
   "execution_count": 20,
   "id": "e82f02f6",
   "metadata": {},
   "outputs": [
    {
     "name": "stdout",
     "output_type": "stream",
     "text": [
      "Month     Total Balance       Interest Owed       Principal Owed      Payment             Remaining Balance   \n",
      "1         $259.20             $2.70               $10.80              $13.50              $259.20             \n",
      "2         $248.29             $2.59               $10.91              $13.50              $248.29             \n",
      "3         $237.27             $2.48               $11.02              $13.50              $237.27             \n",
      "4         $226.15             $2.37               $11.13              $13.50              $226.15             \n",
      "5         $214.91             $2.26               $11.24              $13.50              $214.91             \n",
      "6         $203.56             $2.15               $11.35              $13.50              $203.56             \n",
      "7         $192.09             $2.04               $11.46              $13.50              $192.09             \n",
      "8         $180.51             $1.92               $11.58              $13.50              $180.51             \n",
      "9         $168.82             $1.81               $11.69              $13.50              $168.82             \n",
      "10        $157.01             $1.69               $11.81              $13.50              $157.01             \n",
      "11        $145.08             $1.57               $11.93              $13.50              $145.08             \n",
      "12        $133.03             $1.45               $12.05              $13.50              $133.03             \n",
      "13        $120.86             $1.33               $12.17              $13.50              $120.86             \n",
      "14        $108.57             $1.21               $12.29              $13.50              $108.57             \n",
      "15        $96.15              $1.09               $12.41              $13.50              $96.15              \n",
      "16        $83.62              $0.96               $12.54              $13.50              $83.62              \n",
      "17        $70.95              $0.84               $12.66              $13.50              $70.95              \n",
      "18        $58.16              $0.71               $12.79              $13.50              $58.16              \n",
      "19        $45.24              $0.58               $12.92              $13.50              $45.24              \n",
      "20        $32.19              $0.45               $13.05              $13.50              $32.19              \n",
      "21        $19.02              $0.32               $13.18              $13.50              $19.02              \n",
      "22        $5.71               $0.19               $13.31              $13.50              $5.71               \n",
      "23        $-7.74              $0.06               $13.44              $13.50              $-7.74              \n"
     ]
    }
   ],
   "source": [
    "print(\"{:<10s}{:<20s}{:<20s}{:<20s}{:<20s}{:<20s}\".format(\"Month\", \"Total Balance\", \"Interest Owed\", \"Principal Owed\", \"Payment\", \"Remaining Balance\"))\n",
    "for month, balance, interest, principal, payment in schedule:\n",
    "    print(\"{:<10d}${:<19.2f}${:<19.2f}${:<19.2f}${:<19.2f}${:<19.2f}\".format(month, balance, interest, principal, payment, balance))\n"
   ]
  },
  {
   "cell_type": "markdown",
   "id": "ab8f5c0d",
   "metadata": {},
   "source": [
    "# 6. The Payroll Department keeps a list of employee information for each pay period\n",
    "in a text file. The format of each line of the file is\n",
    "<last name> <hourly wage> <hours worked>\n",
    "Write a program that inputs a filename from the user and prints a report to the\n",
    "terminal of the wages paid to the employees for the given period. The report\n",
    "should be in tabular format with the appropriate header. Each line should contain\n",
    "an employee’s name, the hours worked, and the wages paid for that period.# "
   ]
  },
  {
   "cell_type": "code",
   "execution_count": 21,
   "id": "36cae143",
   "metadata": {},
   "outputs": [],
   "source": [
    "def calculate_wages(hourly_wage, hours_worked):\n",
    "    if hours_worked <= 40:\n",
    "        total_wages = hourly_wage * hours_worked\n",
    "    else:\n",
    "        regular_hours = 40\n",
    "        overtime_hours = hours_worked - 40\n",
    "        overtime_pay = 1.5 * hourly_wage * overtime_hours\n",
    "        total_wages = (hourly_wage * regular_hours) + overtime_pay\n",
    "\n",
    "    return total_wages"
   ]
  },
  {
   "cell_type": "code",
   "execution_count": 26,
   "id": "e6a62ea3",
   "metadata": {
    "scrolled": true
   },
   "outputs": [
    {
     "name": "stdout",
     "output_type": "stream",
     "text": [
      "Employee       Hours Worked   Wages Paid     \n",
      "---------------------------------------------\n",
      "Manu           40.00          $620.00         \n",
      "indu           37.50          $478.12         \n",
      "Swetha         3.00           $6.00           \n",
      "sushma         6.00           $58.80          \n",
      "chandu         50.00          $1061.50        \n"
     ]
    }
   ],
   "source": [
    "# Take input from the user\n",
    "filename = r\"C:\\Users\\DELL\\Downloads\\ASA\\indu.txt\"\n",
    "\n",
    "try:\n",
    "    # Open the file for reading\n",
    "    with open(filename, 'r') as file:\n",
    "        # Read the lines from the file\n",
    "        lines = file.readlines()\n",
    "\n",
    "        # Output the report header\n",
    "        print(\"{:<15s}{:<15s}{:<15s}\".format(\"Employee\", \"Hours Worked\", \"Wages Paid\"))\n",
    "        print(\"-\" * 45)\n",
    "\n",
    "        # Process each line in the file\n",
    "        for line in lines:\n",
    "            # Split the line into employee information\n",
    "            employee_info = line.strip().split()\n",
    "\n",
    "            # Extract the employee details\n",
    "            last_name = employee_info[0]\n",
    "            hourly_wage = eval(employee_info[1])\n",
    "            hours_worked = eval(employee_info[2])\n",
    "\n",
    "            # Calculate the wages\n",
    "            wages_paid = calculate_wages(hourly_wage, hours_worked)\n",
    "\n",
    "            # Output the employee's wages\n",
    "            print(\"{:<15s}{:<15.2f}${:<15.2f}\".format(last_name, hours_worked, wages_paid))\n",
    "\n",
    "except FileNotFoundError:\n",
    "    print(\"File not found!\")"
   ]
  },
  {
   "cell_type": "markdown",
   "id": "36b5e108",
   "metadata": {},
   "source": [
    "# 7. Statisticians would like to have a set of functions to compute the median and\n",
    "mode of a list of numbers. The median is the number that would appear at the\n",
    "midpoint of a list if it were sorted. The mode is the number that appears most\n",
    "frequently in the list. Define these functions in a module named stats.py. Also\n",
    "include a function named mean, which computes the average of a set of numbers.\n",
    "Each function expects a list of numbers as an argument and returns a single\n",
    "number."
   ]
  },
  {
   "cell_type": "code",
   "execution_count": 41,
   "id": "7fb8af0a",
   "metadata": {},
   "outputs": [],
   "source": [
    "from collections import Counter\n",
    "\n",
    "def median(numbers):\n",
    "    sorted_numbers = sorted(numbers)\n",
    "    n = len(sorted_numbers)\n",
    "    if n % 2 == 0:\n",
    "        mid = n // 2\n",
    "        return (sorted_numbers[mid - 1] + sorted_numbers[mid]) / 2\n",
    "    else:\n",
    "        mid = n // 2\n",
    "        return sorted_numbers[mid]\n",
    "\n",
    "def mode(numbers):\n",
    "    counts = Counter(numbers)\n",
    "    max_count = max(counts.values())\n",
    "    modes = [num for num, count in counts.items() if count == max_count]\n",
    "    return modes\n",
    "\n",
    "def mean(numbers):\n",
    "    return sum(numbers) / len(numbers)\n",
    "\n"
   ]
  },
  {
   "cell_type": "code",
   "execution_count": 42,
   "id": "48cf7efe",
   "metadata": {},
   "outputs": [
    {
     "name": "stdout",
     "output_type": "stream",
     "text": [
      "Collecting statsNote: you may need to restart the kernel to use updated packages.\n",
      "\n",
      "  Downloading stats-0.1.2a.tar.gz (127 kB)\n",
      "                                              0.0/127.6 kB ? eta -:--:--\n",
      "     ------------------------------------   122.9/127.6 kB 3.6 MB/s eta 0:00:01\n",
      "     ------------------------------------   122.9/127.6 kB 3.6 MB/s eta 0:00:01\n",
      "     -------------------------------------- 127.6/127.6 kB 1.1 MB/s eta 0:00:00\n",
      "  Installing build dependencies: started\n",
      "  Installing build dependencies: finished with status 'done'\n",
      "  Getting requirements to build wheel: started\n",
      "  Getting requirements to build wheel: finished with status 'done'\n",
      "  Preparing metadata (pyproject.toml): started\n",
      "  Preparing metadata (pyproject.toml): finished with status 'done'\n",
      "Building wheels for collected packages: stats\n",
      "  Building wheel for stats (pyproject.toml): started\n",
      "  Building wheel for stats (pyproject.toml): finished with status 'done'\n",
      "  Created wheel for stats: filename=stats-0.1.2a0-py3-none-any.whl size=24298 sha256=c43b48c9282b257f6803bd7983ddb99458e39250bf0b3ee2dcc13d622b6ea2af\n",
      "  Stored in directory: c:\\users\\dell\\appdata\\local\\pip\\cache\\wheels\\c9\\85\\bc\\3371b9bce1e4f7b8b638e8c968a4dbd74db171ee180c48f808\n",
      "Successfully built stats\n",
      "Installing collected packages: stats\n",
      "Successfully installed stats-0.1.2a0\n"
     ]
    }
   ],
   "source": [
    "pip install stats"
   ]
  },
  {
   "cell_type": "code",
   "execution_count": 44,
   "id": "719619cc",
   "metadata": {},
   "outputs": [
    {
     "name": "stdout",
     "output_type": "stream",
     "text": [
      "Median: 5.0\n",
      "Mode: 6\n",
      "Mean: 4.5\n"
     ]
    }
   ],
   "source": [
    "from stats import median, mode, mean\n",
    "\n",
    "numbers = [1, 2, 3, 4, 5, 5, 6, 6, 6, 7]\n",
    "\n",
    "median_value = median(numbers)\n",
    "mode_value = mode(numbers)\n",
    "mean_value = mean(numbers)\n",
    "\n",
    "print(\"Median:\", median_value)\n",
    "print(\"Mode:\", mode_value)\n",
    "print(\"Mean:\", mean_value)"
   ]
  },
  {
   "cell_type": "code",
   "execution_count": null,
   "id": "4674ba6c",
   "metadata": {},
   "outputs": [],
   "source": []
  }
 ],
 "metadata": {
  "kernelspec": {
   "display_name": "Python 3 (ipykernel)",
   "language": "python",
   "name": "python3"
  },
  "language_info": {
   "codemirror_mode": {
    "name": "ipython",
    "version": 3
   },
   "file_extension": ".py",
   "mimetype": "text/x-python",
   "name": "python",
   "nbconvert_exporter": "python",
   "pygments_lexer": "ipython3",
   "version": "3.10.4"
  }
 },
 "nbformat": 4,
 "nbformat_minor": 5
}
