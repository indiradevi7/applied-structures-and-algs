{
 "cells": [
  {
   "cell_type": "markdown",
   "id": "5e640e64",
   "metadata": {},
   "source": [
    "# 2. An employee’s total weekly pay equals the hourly wage multiplied by the total\n",
    "number of regular hours plus any overtime pay. Overtime pay equals the total\n",
    "overtime hours multiplied by 1.5 times the hourly wage. Write a program that\n",
    "takes as inputs the hourly wage, total regular hours, and total overtime hours and\n",
    "displays an employee’s total weekly pay"
   ]
  },
  {
   "cell_type": "code",
   "execution_count": 6,
   "id": "b865a952",
   "metadata": {},
   "outputs": [],
   "source": [
    "def calculate_weekly_pay(hourly_wage, regular_hours, overtime_hours):\n",
    "    regular_pay = hourly_wage * regular_hours\n",
    "    overtime_pay = hourly_wage * 1.5 * overtime_hours\n",
    "    total_pay = regular_pay + overtime_pay\n",
    "    return total_pay"
   ]
  },
  {
   "cell_type": "code",
   "execution_count": 7,
   "id": "37f912a0",
   "metadata": {},
   "outputs": [
    {
     "name": "stdout",
     "output_type": "stream",
     "text": [
      "Enter the hourly wage: 9\n",
      "Enter the total regular hours: 10\n",
      "Enter the total overtime hours: 40\n"
     ]
    }
   ],
   "source": [
    "hourly_wage = float(input(\"Enter the hourly wage: \"))\n",
    "regular_hours = float(input(\"Enter the total regular hours: \"))\n",
    "overtime_hours = float(input(\"Enter the total overtime hours: \"))"
   ]
  },
  {
   "cell_type": "code",
   "execution_count": 8,
   "id": "429464e0",
   "metadata": {},
   "outputs": [],
   "source": [
    "total_weekly_pay = calculate_weekly_pay(hourly_wage, regular_hours, overtime_hours)"
   ]
  },
  {
   "cell_type": "code",
   "execution_count": 9,
   "id": "8f7cf555",
   "metadata": {},
   "outputs": [
    {
     "name": "stdout",
     "output_type": "stream",
     "text": [
      "Total weekly pay: $630.00\n"
     ]
    }
   ],
   "source": [
    "print(\"Total weekly pay: ${:.2f}\".format(total_weekly_pay))"
   ]
  },
  {
   "cell_type": "code",
   "execution_count": null,
   "id": "d1fcad5e",
   "metadata": {},
   "outputs": [],
   "source": []
  }
 ],
 "metadata": {
  "kernelspec": {
   "display_name": "Python 3 (ipykernel)",
   "language": "python",
   "name": "python3"
  },
  "language_info": {
   "codemirror_mode": {
    "name": "ipython",
    "version": 3
   },
   "file_extension": ".py",
   "mimetype": "text/x-python",
   "name": "python",
   "nbconvert_exporter": "python",
   "pygments_lexer": "ipython3",
   "version": "3.10.4"
  }
 },
 "nbformat": 4,
 "nbformat_minor": 5
}
